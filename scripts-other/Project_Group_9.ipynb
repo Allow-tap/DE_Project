{
 "cells": [
  {
   "cell_type": "code",
   "execution_count": 1,
   "id": "lyric-university",
   "metadata": {},
   "outputs": [
    {
     "data": {
      "text/html": [
       "<style>.container { width:100% !important; }</style>"
      ],
      "text/plain": [
       "<IPython.core.display.HTML object>"
      ]
     },
     "metadata": {},
     "output_type": "display_data"
    }
   ],
   "source": [
    "from IPython.core.display import display, HTML\n",
    "display(HTML(\"<style>.container { width:100% !important; }</style>\"))"
   ]
  },
  {
   "cell_type": "code",
   "execution_count": 2,
   "id": "limiting-notification",
   "metadata": {},
   "outputs": [],
   "source": [
    "from pprint import pprint\n",
    "from pyspark.sql import SparkSession\n",
    "\n",
    "# New API\n",
    "spark_session = SparkSession\\\n",
    "        .builder\\\n",
    "        .master(\"spark://192.168.2.207:7077\") \\\n",
    "        .config(\"spark.dynamicAllocation.executorIdleTimeout\",\"30s\")\\\n",
    "        .config(\"spark.executor.cores\",2)\\\n",
    "        .appName(\"pa_test\")\\\n",
    "        .getOrCreate()\n",
    "\n",
    "# Old API (RDD)\n",
    "spark_context = spark_session.sparkContext"
   ]
  },
  {
   "cell_type": "code",
   "execution_count": null,
   "id": "peaceful-stuff",
   "metadata": {},
   "outputs": [],
   "source": [
    "df = spark_session.read.json(\"hdfs://192.168.2.207:9000/user/ubuntu/sample_data.json\").cache()\\"
   ]
  },
  {
   "cell_type": "code",
   "execution_count": 4,
   "id": "latest-cleaning",
   "metadata": {},
   "outputs": [
    {
     "name": "stdout",
     "output_type": "stream",
     "text": [
      "10000\n"
     ]
    }
   ],
   "source": [
    "lines = spark_context.textFile(\"hdfs://192.168.2.207:9000/user/ubuntu/negative-words.txt\")\n",
    "negative_words = lines.collect()\n",
    "batchSize = 400"
   ]
  },
  {
   "cell_type": "code",
   "execution_count": 19,
   "id": "standing-clinton",
   "metadata": {},
   "outputs": [
    {
     "name": "stdout",
     "output_type": "stream",
     "text": [
      "number of reddit bodies which have at least one negative word:  4129\n"
     ]
    }
   ],
   "source": [
    "reddit_body_df = df.select(\"body\")\n",
    "import pyspark.sql.functions as psf\n",
    "count = 0\n",
    "\n",
    "for index in range(0,len(negative_words),batchSize):\n",
    "    if index == 0:\n",
    "        filtered_df = reddit_body_df.filter(psf.col('body').rlike('(^|\\s)(' + '|'.join(negative_words[index:batchSize]) + ')(\\s|$)'))\n",
    "    else:\n",
    "        df_temp = reddit_body_df.filter(psf.col('body').rlike('(^|\\s)(' + '|'.join(negative_words[index:batchSize]) + ')(\\s|$)'))\n",
    "        filtered_df = filtered_df.union(df_temp)\n",
    "\n",
    "unique_negative_df = filtered_df.dropDuplicates()\n",
    "print('number of reddit bodies which have at least one negative word: ', unique_negative_df.count())"
   ]
  },
  {
   "cell_type": "code",
   "execution_count": null,
   "id": "tracked-citation",
   "metadata": {},
   "outputs": [],
   "source": []
  }
 ],
 "metadata": {
  "kernelspec": {
   "display_name": "Python 3",
   "language": "python",
   "name": "python3"
  },
  "language_info": {
   "codemirror_mode": {
    "name": "ipython",
    "version": 3
   },
   "file_extension": ".py",
   "mimetype": "text/x-python",
   "name": "python",
   "nbconvert_exporter": "python",
   "pygments_lexer": "ipython3",
   "version": "3.6.9"
  }
 },
 "nbformat": 4,
 "nbformat_minor": 5
}
